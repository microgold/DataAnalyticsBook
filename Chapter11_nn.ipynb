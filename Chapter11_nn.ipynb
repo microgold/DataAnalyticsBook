{
 "cells": [
  {
   "cell_type": "code",
   "execution_count": 27,
   "id": "a089a690",
   "metadata": {},
   "outputs": [],
   "source": [
    "import torch\n",
    "from torch import nn, optim\n",
    "from torchvision import datasets, transforms, utils\n",
    "from torch.utils.data import DataLoader\n",
    "import matplotlib.pyplot as plt\n",
    "import numpy as np"
   ]
  },
  {
   "cell_type": "code",
   "execution_count": 28,
   "id": "b0c1c363",
   "metadata": {
    "scrolled": true
   },
   "outputs": [],
   "source": [
    "# Define a transformation to normalize the data\n",
    "transform = transforms.Compose([transforms.ToTensor(),\n",
    "                                transforms.Normalize((0.5,), (0.5,))])\n",
    "\n",
    "# Download and load the training data\n",
    "trainset = datasets.MNIST('~/.pytorch/MNIST_data/', download=True, train=True, transform=transform)\n",
    "trainloader = DataLoader(trainset, batch_size=64, shuffle=True)\n",
    "\n",
    "# Download and load the test data\n",
    "testset = datasets.MNIST('~/.pytorch/MNIST_data/', download=True, train=False, transform=transform)\n",
    "testloader = DataLoader(testset, batch_size=64, shuffle=False)\n"
   ]
  },
  {
   "cell_type": "code",
   "execution_count": 26,
   "id": "de26a527",
   "metadata": {},
   "outputs": [
    {
     "data": {
      "image/png": "[encoded data removed]",
      "text/plain": [
       "<Figure size 1000x1000 with 1 Axes>"
      ]
     },
     "metadata": {},
     "output_type": "display_data"
    },
    {
     "data": {
      "image/png": "[encoded data removed]",
      "text/plain": [
       "<Figure size 640x480 with 1 Axes>"
      ]
     },
     "metadata": {},
     "output_type": "display_data"
    }
   ],
   "source": [
    "# let's show some of the images in the dataset\n",
    "import torchvision\n",
    "\n",
    "def imshow(img):\n",
    "    # img is a torch tensor, so convert it to a numpy array after denormalization\n",
    "    img = img / 2 + 0.5     # unnormalize\n",
    "    npimg = img.numpy()\n",
    "    plt.imshow(np.transpose(npimg, (1, 2, 0)))  # Convert from Tensor image\n",
    "    plt.show()\n",
    "    \n",
    "# Get some random training images\n",
    "dataiter = iter(trainloader)\n",
    "images, labels = next(dataiter)\n",
    "\n",
    "# Show images in a grid\n",
    "plt.figure(figsize=(10, 10))  # Set the figure size for better visibility\n",
    "imshow(torchvision.utils.make_grid(images[:4], nrow=2))\n",
    "plt.axis('off')  # Turn off axis numbers and ticks\n",
    "plt.show()"
   ]
  },
  {
   "cell_type": "code",
   "execution_count": 3,
   "id": "f059549b",
   "metadata": {},
   "outputs": [],
   "source": [
    "class MNISTNetwork(nn.Module):\n",
    "    def __init__(self):\n",
    "        super(MNISTNetwork, self).__init__()\n",
    "        self.hidden = nn.Linear(784, 256)  # 28x28 = 784 input pixels, 256 outputs\n",
    "        self.output = nn.Linear(256, 10)   # 10 output units for 10 classes\n",
    "        self.sigmoid = nn.Sigmoid()\n",
    "        self.softmax = nn.LogSoftmax(dim=1)\n",
    "\n",
    "    def forward(self, x):\n",
    "        x = x.view(x.shape[0], -1)  # Flatten the images\n",
    "        x = self.hidden(x)\n",
    "        x = self.sigmoid(x)\n",
    "        x = self.output(x)\n",
    "        x = self.softmax(x)\n",
    "        return x\n",
    "\n",
    "# Create the network\n",
    "model = MNISTNetwork()\n"
   ]
  },
  {
   "cell_type": "code",
   "execution_count": 16,
   "id": "59f8eec5",
   "metadata": {},
   "outputs": [],
   "source": [
    "optimizer = optim.SGD(model.parameters(), lr=0.01)\n",
    "criterion = nn.CrossEntropyLoss()"
   ]
  },
  {
   "cell_type": "code",
   "execution_count": 14,
   "id": "353d3e7e",
   "metadata": {},
   "outputs": [
    {
     "name": "stdout",
     "output_type": "stream",
     "text": [
      "Training loss: 1.682666209651463\n",
      "Training loss: 0.8168541670862292\n",
      "Training loss: 0.5716605792358231\n",
      "Training loss: 0.4758968580760427\n",
      "Training loss: 0.42519174487606043\n",
      "Training loss: 0.39362197577444985\n",
      "Training loss: 0.37197302788623104\n",
      "Training loss: 0.35584060105878407\n",
      "Training loss: 0.34312510461822504\n",
      "Training loss: 0.3330684964463655\n",
      "Training loss: 0.32436909250168405\n",
      "Training loss: 0.31692451578594727\n",
      "Training loss: 0.3101521505634668\n",
      "Training loss: 0.3042210640906017\n",
      "Training loss: 0.29875197523692526\n"
     ]
    }
   ],
   "source": [
    "\n",
    "\n",
    "epochs = 15\n",
    "for e in range(epochs):\n",
    "    running_loss = 0\n",
    "    for images, labels in trainloader:\n",
    "        optimizer.zero_grad()\n",
    "        \n",
    "        output = model(images)\n",
    "        loss = criterion(output, labels)\n",
    "        \n",
    "        loss.backward()\n",
    "        optimizer.step()\n",
    "        \n",
    "        running_loss += loss.item()\n",
    "    else:\n",
    "        print(f\"Training loss: {running_loss/len(trainloader)}\")\n"
   ]
  },
  {
   "cell_type": "code",
   "execution_count": 18,
   "id": "adf06d1c",
   "metadata": {},
   "outputs": [
    {
     "name": "stdout",
     "output_type": "stream",
     "text": [
      "Number Of Images Tested = 10000\n",
      "\n",
      "Model Accuracy = 0.9196\n"
     ]
    }
   ],
   "source": [
    "# Initialize counters for correct predictions and total predictions\n",
    "correct_count, all_count = 0, 0\n",
    "\n",
    "# Iterate through each batch of images and labels in the test dataset\n",
    "for images, labels in testloader:\n",
    "    # Iterate through each image and corresponding label in the batch\n",
    "    for i in range(len(labels)):\n",
    "        # Disable gradient calculation to speed up the process and reduce memory usage\n",
    "        with torch.no_grad():\n",
    "            # Model inference: pass the image through the model to get the predicted probabilities for each class\n",
    "            # .view(1, 784) reshapes the image to the appropriate batch size and input dimensions required by the model\n",
    "            logps = model(images[i].view(1, 784))\n",
    "\n",
    "        # Convert the log probabilities to actual probabilities for easier interpretation\n",
    "        ps = torch.exp(logps)\n",
    "        # Convert the tensor to a numpy array and get the first item (since batch size is 1, there is only one item)\n",
    "        probab = list(ps.numpy()[0])\n",
    "        # Find the predicted label by finding the index of the highest probability\n",
    "        pred_label = probab.index(max(probab))\n",
    "        # Get the true label for the current image from the batch\n",
    "        true_label = labels.numpy()[i]\n",
    "        # Check if the predicted label matches the true label\n",
    "        if true_label == pred_label:\n",
    "            # If correct, increment the correct prediction count\n",
    "            correct_count += 1\n",
    "        # Always increment the total count\n",
    "        all_count += 1\n",
    "\n",
    "# Print the total number of images tested\n",
    "print(\"Number Of Images Tested =\", all_count)\n",
    "# Calculate and print the model accuracy\n",
    "print(\"\\nModel Accuracy =\", (correct_count / all_count))"
   ]
  },
  {
   "cell_type": "code",
   "execution_count": null,
   "id": "bc8cc71c",
   "metadata": {},
   "outputs": [],
   "source": []
  }
 ],
 "metadata": {
  "kernelspec": {
   "display_name": "Python 3 (ipykernel)",
   "language": "python",
   "name": "python3"
  },
  "language_info": {
   "codemirror_mode": {
    "name": "ipython",
    "version": 3
   },
   "file_extension": ".py",
   "mimetype": "text/x-python",
   "name": "python",
   "nbconvert_exporter": "python",
   "pygments_lexer": "ipython3",
   "version": "3.10.9"
  }
 },
 "nbformat": 4,
 "nbformat_minor": 5
}
