{
 "cells": [
  {
   "cell_type": "markdown",
   "id": "186aac98",
   "metadata": {},
   "source": [
    "### Read In the Data"
   ]
  },
  {
   "cell_type": "code",
   "execution_count": 42,
   "id": "c2acd28c",
   "metadata": {},
   "outputs": [
    {
     "data": {
      "text/html": [
       "<div>\n",
       "<style scoped>\n",
       "    .dataframe tbody tr th:only-of-type {\n",
       "        vertical-align: middle;\n",
       "    }\n",
       "\n",
       "    .dataframe tbody tr th {\n",
       "        vertical-align: top;\n",
       "    }\n",
       "\n",
       "    .dataframe thead th {\n",
       "        text-align: right;\n",
       "    }\n",
       "</style>\n",
       "<table border=\"1\" class=\"dataframe\">\n",
       "  <thead>\n",
       "    <tr style=\"text-align: right;\">\n",
       "      <th></th>\n",
       "      <th>id</th>\n",
       "      <th>name</th>\n",
       "      <th>first</th>\n",
       "      <th>last</th>\n",
       "      <th>compas_screening_date</th>\n",
       "      <th>sex</th>\n",
       "      <th>dob</th>\n",
       "      <th>age</th>\n",
       "      <th>age_cat</th>\n",
       "      <th>race</th>\n",
       "      <th>...</th>\n",
       "      <th>v_decile_score</th>\n",
       "      <th>v_score_text</th>\n",
       "      <th>v_screening_date</th>\n",
       "      <th>in_custody</th>\n",
       "      <th>out_custody</th>\n",
       "      <th>priors_count.1</th>\n",
       "      <th>start</th>\n",
       "      <th>end</th>\n",
       "      <th>event</th>\n",
       "      <th>two_year_recid</th>\n",
       "    </tr>\n",
       "  </thead>\n",
       "  <tbody>\n",
       "    <tr>\n",
       "      <th>0</th>\n",
       "      <td>1</td>\n",
       "      <td>miguel hernandez</td>\n",
       "      <td>miguel</td>\n",
       "      <td>hernandez</td>\n",
       "      <td>2013-08-14</td>\n",
       "      <td>Male</td>\n",
       "      <td>1947-04-18</td>\n",
       "      <td>69</td>\n",
       "      <td>Greater than 45</td>\n",
       "      <td>Other</td>\n",
       "      <td>...</td>\n",
       "      <td>1</td>\n",
       "      <td>Low</td>\n",
       "      <td>2013-08-14</td>\n",
       "      <td>2014-07-07</td>\n",
       "      <td>2014-07-14</td>\n",
       "      <td>0</td>\n",
       "      <td>0</td>\n",
       "      <td>327</td>\n",
       "      <td>0</td>\n",
       "      <td>0</td>\n",
       "    </tr>\n",
       "    <tr>\n",
       "      <th>1</th>\n",
       "      <td>3</td>\n",
       "      <td>kevon dixon</td>\n",
       "      <td>kevon</td>\n",
       "      <td>dixon</td>\n",
       "      <td>2013-01-27</td>\n",
       "      <td>Male</td>\n",
       "      <td>1982-01-22</td>\n",
       "      <td>34</td>\n",
       "      <td>25 - 45</td>\n",
       "      <td>African-American</td>\n",
       "      <td>...</td>\n",
       "      <td>1</td>\n",
       "      <td>Low</td>\n",
       "      <td>2013-01-27</td>\n",
       "      <td>2013-01-26</td>\n",
       "      <td>2013-02-05</td>\n",
       "      <td>0</td>\n",
       "      <td>9</td>\n",
       "      <td>159</td>\n",
       "      <td>1</td>\n",
       "      <td>1</td>\n",
       "    </tr>\n",
       "    <tr>\n",
       "      <th>2</th>\n",
       "      <td>4</td>\n",
       "      <td>ed philo</td>\n",
       "      <td>ed</td>\n",
       "      <td>philo</td>\n",
       "      <td>2013-04-14</td>\n",
       "      <td>Male</td>\n",
       "      <td>1991-05-14</td>\n",
       "      <td>24</td>\n",
       "      <td>Less than 25</td>\n",
       "      <td>African-American</td>\n",
       "      <td>...</td>\n",
       "      <td>3</td>\n",
       "      <td>Low</td>\n",
       "      <td>2013-04-14</td>\n",
       "      <td>2013-06-16</td>\n",
       "      <td>2013-06-16</td>\n",
       "      <td>4</td>\n",
       "      <td>0</td>\n",
       "      <td>63</td>\n",
       "      <td>0</td>\n",
       "      <td>1</td>\n",
       "    </tr>\n",
       "    <tr>\n",
       "      <th>3</th>\n",
       "      <td>5</td>\n",
       "      <td>marcu brown</td>\n",
       "      <td>marcu</td>\n",
       "      <td>brown</td>\n",
       "      <td>2013-01-13</td>\n",
       "      <td>Male</td>\n",
       "      <td>1993-01-21</td>\n",
       "      <td>23</td>\n",
       "      <td>Less than 25</td>\n",
       "      <td>African-American</td>\n",
       "      <td>...</td>\n",
       "      <td>6</td>\n",
       "      <td>Medium</td>\n",
       "      <td>2013-01-13</td>\n",
       "      <td>NaN</td>\n",
       "      <td>NaN</td>\n",
       "      <td>1</td>\n",
       "      <td>0</td>\n",
       "      <td>1174</td>\n",
       "      <td>0</td>\n",
       "      <td>0</td>\n",
       "    </tr>\n",
       "    <tr>\n",
       "      <th>4</th>\n",
       "      <td>6</td>\n",
       "      <td>bouthy pierrelouis</td>\n",
       "      <td>bouthy</td>\n",
       "      <td>pierrelouis</td>\n",
       "      <td>2013-03-26</td>\n",
       "      <td>Male</td>\n",
       "      <td>1973-01-22</td>\n",
       "      <td>43</td>\n",
       "      <td>25 - 45</td>\n",
       "      <td>Other</td>\n",
       "      <td>...</td>\n",
       "      <td>1</td>\n",
       "      <td>Low</td>\n",
       "      <td>2013-03-26</td>\n",
       "      <td>NaN</td>\n",
       "      <td>NaN</td>\n",
       "      <td>2</td>\n",
       "      <td>0</td>\n",
       "      <td>1102</td>\n",
       "      <td>0</td>\n",
       "      <td>0</td>\n",
       "    </tr>\n",
       "  </tbody>\n",
       "</table>\n",
       "<p>5 rows × 53 columns</p>\n",
       "</div>"
      ],
      "text/plain": [
       "   id                name   first         last compas_screening_date   sex  \\\n",
       "0   1    miguel hernandez  miguel    hernandez            2013-08-14  Male   \n",
       "1   3         kevon dixon   kevon        dixon            2013-01-27  Male   \n",
       "2   4            ed philo      ed        philo            2013-04-14  Male   \n",
       "3   5         marcu brown   marcu        brown            2013-01-13  Male   \n",
       "4   6  bouthy pierrelouis  bouthy  pierrelouis            2013-03-26  Male   \n",
       "\n",
       "          dob  age          age_cat              race  ...  v_decile_score  \\\n",
       "0  1947-04-18   69  Greater than 45             Other  ...               1   \n",
       "1  1982-01-22   34          25 - 45  African-American  ...               1   \n",
       "2  1991-05-14   24     Less than 25  African-American  ...               3   \n",
       "3  1993-01-21   23     Less than 25  African-American  ...               6   \n",
       "4  1973-01-22   43          25 - 45             Other  ...               1   \n",
       "\n",
       "   v_score_text  v_screening_date  in_custody  out_custody  priors_count.1  \\\n",
       "0           Low        2013-08-14  2014-07-07   2014-07-14               0   \n",
       "1           Low        2013-01-27  2013-01-26   2013-02-05               0   \n",
       "2           Low        2013-04-14  2013-06-16   2013-06-16               4   \n",
       "3        Medium        2013-01-13         NaN          NaN               1   \n",
       "4           Low        2013-03-26         NaN          NaN               2   \n",
       "\n",
       "  start   end event two_year_recid  \n",
       "0     0   327     0              0  \n",
       "1     9   159     1              1  \n",
       "2     0    63     0              1  \n",
       "3     0  1174     0              0  \n",
       "4     0  1102     0              0  \n",
       "\n",
       "[5 rows x 53 columns]"
      ]
     },
     "execution_count": 42,
     "metadata": {},
     "output_type": "execute_result"
    }
   ],
   "source": [
    "import pandas as pd\n",
    "\n",
    "# Load the COMPAS dataset\n",
    "data = pd.read_csv('compas-scores-two-years.csv')\n",
    "\n",
    "# Display first few rows\n",
    "data.head()\n",
    "\n"
   ]
  },
  {
   "cell_type": "code",
   "execution_count": 108,
   "id": "30bbfbb0",
   "metadata": {},
   "outputs": [
    {
     "name": "stdout",
     "output_type": "stream",
     "text": [
      "<class 'pandas.core.frame.DataFrame'>\n",
      "RangeIndex: 7214 entries, 0 to 7213\n",
      "Data columns (total 53 columns):\n",
      " #   Column                   Non-Null Count  Dtype  \n",
      "---  ------                   --------------  -----  \n",
      " 0   id                       7214 non-null   int64  \n",
      " 1   name                     7214 non-null   object \n",
      " 2   first                    7214 non-null   object \n",
      " 3   last                     7214 non-null   object \n",
      " 4   compas_screening_date    7214 non-null   object \n",
      " 5   sex                      7214 non-null   object \n",
      " 6   dob                      7214 non-null   object \n",
      " 7   age                      7214 non-null   int64  \n",
      " 8   age_cat                  7214 non-null   object \n",
      " 9   race                     7214 non-null   object \n",
      " 10  juv_fel_count            7214 non-null   int64  \n",
      " 11  decile_score             7214 non-null   int64  \n",
      " 12  juv_misd_count           7214 non-null   int64  \n",
      " 13  juv_other_count          7214 non-null   int64  \n",
      " 14  priors_count             7214 non-null   int64  \n",
      " 15  days_b_screening_arrest  6907 non-null   float64\n",
      " 16  c_jail_in                6907 non-null   object \n",
      " 17  c_jail_out               6907 non-null   object \n",
      " 18  c_case_number            7192 non-null   object \n",
      " 19  c_offense_date           6055 non-null   object \n",
      " 20  c_arrest_date            1137 non-null   object \n",
      " 21  c_days_from_compas       7192 non-null   float64\n",
      " 22  c_charge_degree          7214 non-null   object \n",
      " 23  c_charge_desc            7185 non-null   object \n",
      " 24  is_recid                 7214 non-null   int64  \n",
      " 25  r_case_number            3471 non-null   object \n",
      " 26  r_charge_degree          3471 non-null   object \n",
      " 27  r_days_from_arrest       2316 non-null   float64\n",
      " 28  r_offense_date           3471 non-null   object \n",
      " 29  r_charge_desc            3413 non-null   object \n",
      " 30  r_jail_in                2316 non-null   object \n",
      " 31  r_jail_out               2316 non-null   object \n",
      " 32  violent_recid            0 non-null      float64\n",
      " 33  is_violent_recid         7214 non-null   int64  \n",
      " 34  vr_case_number           819 non-null    object \n",
      " 35  vr_charge_degree         819 non-null    object \n",
      " 36  vr_offense_date          819 non-null    object \n",
      " 37  vr_charge_desc           819 non-null    object \n",
      " 38  type_of_assessment       7214 non-null   object \n",
      " 39  decile_score.1           7214 non-null   int64  \n",
      " 40  score_text               7214 non-null   object \n",
      " 41  screening_date           7214 non-null   object \n",
      " 42  v_type_of_assessment     7214 non-null   object \n",
      " 43  v_decile_score           7214 non-null   int64  \n",
      " 44  v_score_text             7214 non-null   object \n",
      " 45  v_screening_date         7214 non-null   object \n",
      " 46  in_custody               6978 non-null   object \n",
      " 47  out_custody              6978 non-null   object \n",
      " 48  priors_count.1           7214 non-null   int64  \n",
      " 49  start                    7214 non-null   int64  \n",
      " 50  end                      7214 non-null   int64  \n",
      " 51  event                    7214 non-null   int64  \n",
      " 52  two_year_recid           7214 non-null   int64  \n",
      "dtypes: float64(4), int64(16), object(33)\n",
      "memory usage: 2.9+ MB\n"
     ]
    }
   ],
   "source": [
    "# Check dataset structure\n",
    "data.info()"
   ]
  },
  {
   "cell_type": "markdown",
   "id": "3f977f21",
   "metadata": {},
   "source": [
    "### Preprocess the Data"
   ]
  },
  {
   "cell_type": "code",
   "execution_count": 146,
   "id": "b5f9dd51",
   "metadata": {},
   "outputs": [
    {
     "name": "stdout",
     "output_type": "stream",
     "text": [
      "days_b_screening_arrest     307\n",
      "c_jail_in                   307\n",
      "c_jail_out                  307\n",
      "c_case_number                22\n",
      "c_offense_date             1159\n",
      "c_arrest_date              6077\n",
      "c_days_from_compas           22\n",
      "c_charge_desc                29\n",
      "r_case_number              3743\n",
      "r_charge_degree            3743\n",
      "r_days_from_arrest         4898\n",
      "r_offense_date             3743\n",
      "r_charge_desc              3801\n",
      "r_jail_in                  4898\n",
      "r_jail_out                 4898\n",
      "violent_recid              7214\n",
      "vr_case_number             6395\n",
      "vr_charge_degree           6395\n",
      "vr_offense_date            6395\n",
      "vr_charge_desc             6395\n",
      "in_custody                  236\n",
      "out_custody                 236\n",
      "dtype: int64\n"
     ]
    }
   ],
   "source": [
    "data_processed = data\n",
    "# Check for columns with a large percentage of missing values\n",
    "missing_counts = data_processed.isna().sum()\n",
    "print(missing_counts[missing_counts > 0])  # View columns with missing values\n",
    "\n",
    "# Drop columns with a large proportion of NaN values (e.g., > 50% missing)\n",
    "data_processed = data_processed.drop(columns=missing_counts[missing_counts > len(data_processed) * 0.5].index)\n"
   ]
  },
  {
   "cell_type": "markdown",
   "id": "fc06217e",
   "metadata": {},
   "source": [
    "### Impute Missing values"
   ]
  },
  {
   "cell_type": "code",
   "execution_count": 147,
   "id": "ea3dc765",
   "metadata": {},
   "outputs": [
    {
     "name": "stderr",
     "output_type": "stream",
     "text": [
      "C:\\Users\\jcity\\AppData\\Local\\Temp\\ipykernel_55380\\1646009309.py:2: FutureWarning: The default value of numeric_only in DataFrame.median is deprecated. In a future version, it will default to False. In addition, specifying 'numeric_only=None' is deprecated. Select only valid columns or specify the value of numeric_only to silence this warning.\n",
      "  data_processed.fillna(data_processed.median(), inplace=True)\n"
     ]
    }
   ],
   "source": [
    "# Impute numerical columns with the median value\n",
    "data_processed.fillna(data_processed.median(), inplace=True)\n",
    "\n",
    "# For categorical columns, you could use the mode (most frequent value)\n",
    "categorical_columns = data_processed.select_dtypes(include=['object']).columns\n",
    "for column in categorical_columns:\n",
    "    data_processed[column].fillna(data_processed[column].mode()[0], inplace=True)"
   ]
  },
  {
   "cell_type": "code",
   "execution_count": 135,
   "id": "521f9323",
   "metadata": {},
   "outputs": [
    {
     "name": "stdout",
     "output_type": "stream",
     "text": [
      "<class 'pandas.core.frame.DataFrame'>\n",
      "RangeIndex: 7214 entries, 0 to 7213\n",
      "Data columns (total 40 columns):\n",
      " #   Column                   Non-Null Count  Dtype  \n",
      "---  ------                   --------------  -----  \n",
      " 0   id                       7214 non-null   int64  \n",
      " 1   name                     7214 non-null   object \n",
      " 2   first                    7214 non-null   object \n",
      " 3   last                     7214 non-null   object \n",
      " 4   compas_screening_date    7214 non-null   object \n",
      " 5   sex                      7214 non-null   object \n",
      " 6   dob                      7214 non-null   object \n",
      " 7   age                      7214 non-null   int64  \n",
      " 8   age_cat                  7214 non-null   object \n",
      " 9   race                     7214 non-null   object \n",
      " 10  juv_fel_count            7214 non-null   int64  \n",
      " 11  decile_score             7214 non-null   int64  \n",
      " 12  juv_misd_count           7214 non-null   int64  \n",
      " 13  juv_other_count          7214 non-null   int64  \n",
      " 14  priors_count             7214 non-null   int64  \n",
      " 15  days_b_screening_arrest  7214 non-null   float64\n",
      " 16  c_jail_in                7214 non-null   object \n",
      " 17  c_jail_out               7214 non-null   object \n",
      " 18  c_case_number            7214 non-null   object \n",
      " 19  c_offense_date           7214 non-null   object \n",
      " 20  c_days_from_compas       7214 non-null   float64\n",
      " 21  c_charge_degree          7214 non-null   object \n",
      " 22  c_charge_desc            7214 non-null   object \n",
      " 23  is_recid                 7214 non-null   int64  \n",
      " 24  is_violent_recid         7214 non-null   int64  \n",
      " 25  type_of_assessment       7214 non-null   object \n",
      " 26  decile_score.1           7214 non-null   int64  \n",
      " 27  score_text               7214 non-null   object \n",
      " 28  screening_date           7214 non-null   object \n",
      " 29  v_type_of_assessment     7214 non-null   object \n",
      " 30  v_decile_score           7214 non-null   int64  \n",
      " 31  v_score_text             7214 non-null   object \n",
      " 32  v_screening_date         7214 non-null   object \n",
      " 33  in_custody               7214 non-null   object \n",
      " 34  out_custody              7214 non-null   object \n",
      " 35  priors_count.1           7214 non-null   int64  \n",
      " 36  start                    7214 non-null   int64  \n",
      " 37  end                      7214 non-null   int64  \n",
      " 38  event                    7214 non-null   int64  \n",
      " 39  two_year_recid           7214 non-null   int64  \n",
      "dtypes: float64(2), int64(16), object(22)\n",
      "memory usage: 2.2+ MB\n"
     ]
    }
   ],
   "source": [
    "data_processed.info()"
   ]
  },
  {
   "cell_type": "markdown",
   "id": "d1b0491c",
   "metadata": {},
   "source": [
    "### Preprocess Data"
   ]
  },
  {
   "cell_type": "markdown",
   "id": "bb06d674",
   "metadata": {},
   "source": [
    "#### Preprocess Date Info"
   ]
  },
  {
   "cell_type": "code",
   "execution_count": 148,
   "id": "473191d6",
   "metadata": {},
   "outputs": [
    {
     "name": "stdout",
     "output_type": "stream",
     "text": [
      "<class 'pandas.core.frame.DataFrame'>\n",
      "RangeIndex: 7214 entries, 0 to 7213\n",
      "Data columns (total 62 columns):\n",
      " #   Column                       Non-Null Count  Dtype         \n",
      "---  ------                       --------------  -----         \n",
      " 0   id                           7214 non-null   int64         \n",
      " 1   name                         7214 non-null   object        \n",
      " 2   first                        7214 non-null   object        \n",
      " 3   last                         7214 non-null   object        \n",
      " 4   compas_screening_date        7214 non-null   datetime64[ns]\n",
      " 5   sex                          7214 non-null   object        \n",
      " 6   dob                          7214 non-null   object        \n",
      " 7   age                          7214 non-null   int64         \n",
      " 8   age_cat                      7214 non-null   object        \n",
      " 9   race                         7214 non-null   object        \n",
      " 10  juv_fel_count                7214 non-null   int64         \n",
      " 11  decile_score                 7214 non-null   int64         \n",
      " 12  juv_misd_count               7214 non-null   int64         \n",
      " 13  juv_other_count              7214 non-null   int64         \n",
      " 14  priors_count                 7214 non-null   int64         \n",
      " 15  days_b_screening_arrest      7214 non-null   float64       \n",
      " 16  c_jail_in                    7214 non-null   datetime64[ns]\n",
      " 17  c_jail_out                   7214 non-null   datetime64[ns]\n",
      " 18  c_case_number                7214 non-null   object        \n",
      " 19  c_offense_date               7214 non-null   object        \n",
      " 20  c_days_from_compas           7214 non-null   float64       \n",
      " 21  c_charge_degree              7214 non-null   object        \n",
      " 22  c_charge_desc                7214 non-null   object        \n",
      " 23  is_recid                     7214 non-null   int64         \n",
      " 24  is_violent_recid             7214 non-null   int64         \n",
      " 25  type_of_assessment           7214 non-null   object        \n",
      " 26  decile_score.1               7214 non-null   int64         \n",
      " 27  score_text                   7214 non-null   object        \n",
      " 28  screening_date               7214 non-null   datetime64[ns]\n",
      " 29  v_type_of_assessment         7214 non-null   object        \n",
      " 30  v_decile_score               7214 non-null   int64         \n",
      " 31  v_score_text                 7214 non-null   object        \n",
      " 32  v_screening_date             7214 non-null   datetime64[ns]\n",
      " 33  in_custody                   7214 non-null   datetime64[ns]\n",
      " 34  out_custody                  7214 non-null   datetime64[ns]\n",
      " 35  priors_count.1               7214 non-null   int64         \n",
      " 36  start                        7214 non-null   int64         \n",
      " 37  end                          7214 non-null   int64         \n",
      " 38  event                        7214 non-null   int64         \n",
      " 39  two_year_recid               7214 non-null   int64         \n",
      " 40  compas_screening_date_year   7214 non-null   int64         \n",
      " 41  compas_screening_date_month  7214 non-null   int64         \n",
      " 42  compas_screening_date_day    7214 non-null   int64         \n",
      " 43  c_jail_in_year               7214 non-null   int64         \n",
      " 44  c_jail_in_month              7214 non-null   int64         \n",
      " 45  c_jail_in_day                7214 non-null   int64         \n",
      " 46  c_jail_out_year              7214 non-null   int64         \n",
      " 47  c_jail_out_month             7214 non-null   int64         \n",
      " 48  c_jail_out_day               7214 non-null   int64         \n",
      " 49  v_screening_date_year        7214 non-null   int64         \n",
      " 50  v_screening_date_month       7214 non-null   int64         \n",
      " 51  v_screening_date_day         7214 non-null   int64         \n",
      " 52  screening_date_year          7214 non-null   int64         \n",
      " 53  screening_date_month         7214 non-null   int64         \n",
      " 54  screening_date_day           7214 non-null   int64         \n",
      " 55  in_custody_year              7214 non-null   int64         \n",
      " 56  in_custody_month             7214 non-null   int64         \n",
      " 57  in_custody_day               7214 non-null   int64         \n",
      " 58  out_custody_year             7214 non-null   int64         \n",
      " 59  out_custody_month            7214 non-null   int64         \n",
      " 60  out_custody_day              7214 non-null   int64         \n",
      " 61  days_since_compas            7214 non-null   int64         \n",
      "dtypes: datetime64[ns](7), float64(2), int64(38), object(15)\n",
      "memory usage: 3.4+ MB\n"
     ]
    }
   ],
   "source": [
    "# Convert date columns to datetime format\n",
    "date_columns = ['compas_screening_date', 'c_jail_in', 'c_jail_out', 'v_screening_date', 'screening_date', 'in_custody', 'out_custody' ]  # Update with relevant date columns in your dataset\n",
    "for col in date_columns:\n",
    "    data_processed[col] = pd.to_datetime(data_processed[col], errors='coerce')  # Convert to datetime; invalid parsing will be set as NaT (missing)\n",
    "\n",
    "# Extract year, month, and day as separate features\n",
    "for col in date_columns:\n",
    "    data_processed[f'{col}_year'] = data_processed[col].dt.year\n",
    "    data_processed[f'{col}_month'] = data_processed[col].dt.month\n",
    "    data_processed[f'{col}_day'] = data_processed[col].dt.day\n",
    "\n",
    "# Calculate days since a reference date (e.g., 'compas_screening_date')\n",
    "reference_date = pd.to_datetime('2013-01-01')  # Set an arbitrary reference date\n",
    "data_processed['days_since_compas'] = (data_processed['compas_screening_date'] - reference_date).dt.days\n",
    "\n",
    "data_processed.info()"
   ]
  },
  {
   "cell_type": "code",
   "execution_count": 149,
   "id": "965fa5cd",
   "metadata": {},
   "outputs": [
    {
     "name": "stdout",
     "output_type": "stream",
     "text": [
      "(7214, 62)\n",
      "(7214, 46)\n",
      "(7214, 495)\n",
      "<class 'pandas.core.frame.DataFrame'>\n",
      "RangeIndex: 7214 entries, 0 to 7213\n",
      "Columns: 494 entries, juv_fel_count to v_score_text_Medium\n",
      "dtypes: float64(2), int64(34), uint8(458)\n",
      "memory usage: 5.1 MB\n"
     ]
    }
   ],
   "source": [
    "print(data_processed.shape)\n",
    "\n",
    "data_processed = data_processed.drop(columns=['id', 'name', 'first', 'last','age', 'priors_count', \n",
    "                           'compas_screening_date', 'dob',  \n",
    "                          'c_case_number', 'c_offense_date',  \n",
    "                          'c_jail_in', 'c_jail_out', 'v_screening_date',\n",
    "                          'in_custody', 'out_custody',\n",
    "                          'screening_date'])\n",
    "\n",
    "print(data_processed.shape)\n",
    "\n",
    "\n",
    "\n",
    "# Encode categorical features\n",
    "data_processed = pd.get_dummies(data_processed, columns=['sex', 'race', 'c_charge_degree', \n",
    "                                                         'age_cat', 'c_charge_desc', 'score_text', \n",
    "                                                         'type_of_assessment', 'v_type_of_assessment', 'v_score_text'\n",
    "                                                        ], drop_first=False)\n",
    "                                                         \n",
    "\n",
    "# Drop columns with names or non-numeric data that aren't needed for modeling\n",
    "print(data_processed.shape)\n",
    "\n",
    "\n",
    "# Separate features and target variable\n",
    "y = data_processed['two_year_recid']\n",
    "X = data_processed.drop('two_year_recid', axis=1)\n",
    "\n",
    "X.info()\n"
   ]
  },
  {
   "cell_type": "code",
   "execution_count": 150,
   "id": "4ffefd73",
   "metadata": {},
   "outputs": [
    {
     "name": "stdout",
     "output_type": "stream",
     "text": [
      "<class 'pandas.core.frame.DataFrame'>\n",
      "RangeIndex: 7214 entries, 0 to 7213\n",
      "Columns: 495 entries, juv_fel_count to v_score_text_Medium\n",
      "dtypes: float64(2), int64(35), uint8(458)\n",
      "memory usage: 5.2 MB\n"
     ]
    }
   ],
   "source": [
    "data_processed.info()"
   ]
  },
  {
   "cell_type": "markdown",
   "id": "db6c1184",
   "metadata": {},
   "source": [
    "### Train a Baseline Model"
   ]
  },
  {
   "cell_type": "code",
   "execution_count": 151,
   "id": "9b82e162",
   "metadata": {},
   "outputs": [
    {
     "name": "stdout",
     "output_type": "stream",
     "text": [
      "Baseline Accuracy: 0.99\n"
     ]
    }
   ],
   "source": [
    "from sklearn.model_selection import train_test_split\n",
    "from sklearn.linear_model import LogisticRegression\n",
    "from sklearn.preprocessing import StandardScaler\n",
    "from sklearn.metrics import accuracy_score, confusion_matrix\n",
    "\n",
    "# Split the data into training and testing sets\n",
    "X_train, X_test, y_train, y_test = train_test_split(X, y, test_size=0.2, random_state=42)\n",
    "\n",
    "# Scale the features\n",
    "scaler = StandardScaler()\n",
    "X_train_scaled = scaler.fit_transform(X_train)\n",
    "X_test_scaled = scaler.transform(X_test)\n",
    "\n",
    "# Train a Logistic Regression model with a higher max_iter\n",
    "model = LogisticRegression(max_iter=1000)\n",
    "model.fit(X_train_scaled, y_train)\n",
    "\n",
    "# Make predictions and evaluate\n",
    "y_pred = model.predict(X_test_scaled)\n",
    "baseline_accuracy = accuracy_score(y_test, y_pred)\n",
    "print(f\"Baseline Accuracy: {baseline_accuracy:.2f}\")\n"
   ]
  },
  {
   "cell_type": "code",
   "execution_count": 116,
   "id": "42d7abca",
   "metadata": {},
   "outputs": [
    {
     "name": "stdout",
     "output_type": "stream",
     "text": [
      "Feature coefficients: [[-1.16709838e-02  1.42326287e-01  1.01114965e-02 -4.29835596e-02\n",
      "  -1.86532073e-01  1.24703365e-01  5.10532564e+00 -1.07957187e-01\n",
      "   1.42326287e-01 -2.31461527e-01  2.82866166e-01  8.74831940e-01\n",
      "  -4.59063706e+00  1.75857726e+00  1.11223176e-01  2.70600964e-01\n",
      "   6.61961003e-03  2.11036604e-01 -7.60002830e-03  2.67475739e-01\n",
      "   3.98965213e-01 -3.22309397e-01 -3.51251879e-01  1.11223176e-01\n",
      "   2.70600964e-01  6.61961003e-03  1.11223176e-01  2.70600964e-01\n",
      "   6.61961003e-03 -7.20127322e-02  1.39443661e-01 -8.45322417e-03\n",
      "   6.73358657e-02 -1.32884455e-02  1.94561534e-02  2.59255620e-01\n",
      "   1.19976971e-01 -1.44808624e-02  8.88086552e-02  2.45682913e-01\n",
      "   7.96606258e-02  1.69790300e-01 -4.02195721e-02 -2.85623366e-01\n",
      "   3.94407692e-02  3.41956730e-02  0.00000000e+00 -2.43981308e-03\n",
      "  -9.22866568e-02 -2.82910534e-02 -6.60883112e-05  9.46382216e-03\n",
      "   1.63992658e-02  8.09475151e-02 -2.27135625e-02  1.81983086e-02\n",
      "  -7.79952109e-02 -4.18711784e-02  1.60549012e-01  8.09162946e-02\n",
      "   2.86676309e-02 -2.64040998e-01  1.51592121e-01  2.97618890e-02\n",
      "   1.90324534e-02 -9.65301019e-02  5.62121084e-03  0.00000000e+00\n",
      "   2.48039777e-02  5.31530174e-02  0.00000000e+00  1.82438300e-02\n",
      "   1.95082896e-02 -1.97125525e-02 -1.83628060e-01  2.57634007e-02\n",
      "   2.05497438e-02  4.45785425e-03  4.49730282e-02  1.12265734e-01\n",
      "  -5.79140942e-02 -1.04200669e-01  5.80496685e-02  1.61298671e-02\n",
      "   1.85208345e-02 -1.28484380e-03  2.22103359e-02  0.00000000e+00\n",
      "   2.65626703e-02  9.39219170e-02  4.44971094e-02  1.40163802e-02\n",
      "   0.00000000e+00  0.00000000e+00  1.62470187e-01 -5.86451147e-02\n",
      "   2.09720402e-02  0.00000000e+00  2.47702351e-02  6.80692596e-02\n",
      "   2.04504983e-03  5.37902680e-02 -5.74645435e-02  3.59927750e-02\n",
      "  -7.65815207e-02 -8.78577576e-02  1.37309894e-02  4.12730267e-03\n",
      "   4.82903227e-02 -4.14018390e-02  7.25116332e-03 -3.42670089e-02\n",
      "   1.64602184e-02  2.30668385e-02  5.45968274e-02 -1.98867690e-02\n",
      "   2.15923410e-02  1.59052186e-03  5.52632761e-02  0.00000000e+00\n",
      "   1.86091273e-02  9.89077433e-03  1.68189796e-02  0.00000000e+00\n",
      "   0.00000000e+00 -9.77611111e-04  1.55652286e-02  4.87562976e-02\n",
      "   9.49119203e-03  2.52737293e-01 -1.29992645e-02  0.00000000e+00\n",
      "   4.09120408e-03  8.78142258e-03 -1.18262198e-01  6.06427662e-02\n",
      "   1.81358395e-02  9.65067640e-02 -1.11101504e-01  7.58246049e-03\n",
      "   3.16074626e-02 -1.25862253e-01  1.73065622e-02  1.22922426e-02\n",
      "   2.50777961e-02  2.56935486e-02  2.47092827e-02  1.64848078e-02\n",
      "   2.67520611e-02  3.69425374e-01  1.80977147e-01  3.39374409e-02\n",
      "   3.31002948e-02  1.40958491e-03  1.74463813e-02  0.00000000e+00\n",
      "   2.12571987e-02  3.15851780e-02  1.66926895e-02  1.57488766e-02\n",
      "   0.00000000e+00  2.64236678e-02  3.07525228e-02  1.29279561e-02\n",
      "   1.68636727e-02 -1.44475602e-01  1.70502635e-02 -3.20924593e-02\n",
      "   1.68357461e-02 -7.68864149e-02  5.24414339e-02 -1.92502625e-02\n",
      "   2.33263353e-02  1.64345994e-02  1.78804085e-02 -3.01985593e-02\n",
      "   2.44068428e-02  8.67879074e-03  5.39817970e-02 -2.60217556e-02\n",
      "  -4.43791565e-02 -3.94442217e-02 -6.88664994e-02  2.03947550e-01\n",
      "   4.71403505e-02 -1.96775912e-01  1.43070726e-02  2.41691275e-02\n",
      "   2.84762660e-02  1.52925385e-02  2.40824955e-02  8.24609845e-03\n",
      "   0.00000000e+00  1.83864197e-02 -2.57204947e-02  1.27511735e-01\n",
      "   1.63839916e-02  6.20757218e-02  2.78909850e-02  4.20053514e-02\n",
      "   0.00000000e+00  1.77228062e-02 -1.99310107e-02  7.18582048e-03\n",
      "  -3.71598990e-02  8.22628821e-02  0.00000000e+00  4.29153519e-02\n",
      "   0.00000000e+00  3.66205089e-02  3.99103688e-03 -7.32391773e-02\n",
      "   2.53299146e-02 -2.02356506e-02  2.10235823e-02 -1.17258388e-01\n",
      "  -4.72530510e-02  6.39798638e-02  1.81170743e-02  1.39349264e-02\n",
      "  -1.84740934e-01 -1.10776522e-01 -2.51049244e-02  3.18430318e-02\n",
      "   0.00000000e+00 -1.96024700e-02  1.08679734e-01 -1.36079812e-02\n",
      "   5.62854751e-03  6.88601258e-02  0.00000000e+00  3.25525217e-02\n",
      "   1.71176135e-02  2.76320467e-02  6.95471656e-02  8.13764126e-02\n",
      "  -6.95324185e-02  1.78772688e-02 -5.89566355e-02  2.13811142e-02\n",
      "   4.63962064e-02  3.19905585e-02  3.12301962e-03  1.88452047e-02\n",
      "   0.00000000e+00  1.48116048e-02  2.51901668e-02  0.00000000e+00\n",
      "   5.59251934e-02  7.19746718e-03  5.49198029e-03  2.86323205e-02\n",
      "   5.13578466e-02  1.21198088e-02  2.73545951e-02  7.94480732e-03\n",
      "  -2.07155157e-02  4.48786495e-02  2.32346805e-02  1.45569214e-02\n",
      "   5.61905316e-02  1.86631640e-02  1.76719298e-02 -9.22424770e-02\n",
      "   0.00000000e+00  1.50085260e-02  7.08699078e-02  5.34770322e-02\n",
      "   1.82757436e-02  2.39157189e-02  1.19174128e-01 -5.63671068e-02\n",
      "   8.23617554e-03 -3.74931191e-02  4.91825036e-03 -1.59753949e-02\n",
      "   7.59705234e-02  1.20073835e-01  1.20841486e-02 -1.15343002e-02\n",
      "   2.47338442e-02 -2.99907098e-03 -2.80937553e-02  1.76576328e-02\n",
      "   1.69472179e-02  8.55341656e-02  5.32464896e-03 -7.79200112e-02\n",
      "   1.18093011e-02  6.40610122e-02  1.96902440e-02 -4.95537233e-02\n",
      "   1.06670936e-01  3.28546951e-02  3.56124044e-02  2.12998772e-02\n",
      "   6.91122195e-02  5.48105371e-02 -1.89529095e-02  1.53733758e-02\n",
      "  -9.28591558e-02  1.61014324e-01  1.48824114e-02  0.00000000e+00\n",
      "   3.49972918e-02  3.19139798e-02  2.70834304e-02  1.44101479e-02\n",
      "  -2.04210629e-01  3.77685097e-02  0.00000000e+00  2.25711828e-02\n",
      "   9.67509512e-02  1.32199769e-02  6.06697919e-02  7.63419381e-02\n",
      "   0.00000000e+00  2.39772422e-02  2.45203604e-02  7.62707856e-02\n",
      "  -5.07146203e-02 -4.07298780e-02  1.59918757e-02  1.84592181e-02\n",
      "   2.71366390e-02  1.45722936e-02  6.67533732e-02  4.38044153e-02\n",
      "   1.36993868e-01 -1.01518697e-02  1.19308535e-03 -2.43966002e-02\n",
      "   1.20119947e-02  2.07337430e-02  8.83929539e-02  1.45562417e-02\n",
      "   1.49298055e-02  4.24239910e-03  8.73774287e-03  1.19465746e-03\n",
      "  -4.63460535e-02  1.84609385e-02 -3.10227351e-03 -1.00686409e-02\n",
      "   5.33663807e-02  2.70218905e-02  1.68130090e-02  1.62057563e-02\n",
      "   2.02117337e-02  2.43683260e-02  2.31986253e-02  1.01315362e-02\n",
      "   7.51863482e-03  5.32956641e-02  1.16589665e-02  1.07556522e-01\n",
      "   5.43969699e-03 -3.19705604e-02  3.67491751e-02  7.27984185e-03\n",
      "   4.67159575e-02 -4.00773142e-03 -9.40353788e-02 -2.78269090e-03\n",
      "   4.13611402e-02  1.18308010e-01 -6.86985666e-02  0.00000000e+00\n",
      "   2.52139756e-02  2.52819866e-02  4.85641878e-03  1.41925236e-02\n",
      "   1.29283071e-02  1.68149885e-02 -2.04951653e-02  4.23679101e-02\n",
      "   3.13491709e-02  6.60283612e-02  1.72751969e-02  1.72970181e-02\n",
      "   1.52237594e-02  0.00000000e+00  1.47271132e-01  1.70785577e-02\n",
      "   0.00000000e+00 -1.38801519e-01 -2.77549261e-02  0.00000000e+00\n",
      "   8.04684320e-03  2.52791334e-02  1.06719673e-01  1.08035567e-02\n",
      "   1.90971682e-02  2.70346805e-02  1.79104614e-02  1.33255054e-01\n",
      "   2.38457442e-02 -1.24991831e-02  0.00000000e+00  1.70429842e-02\n",
      "   3.52188412e-03  4.33414941e-02  1.75300285e-02  2.32996130e-02\n",
      "   0.00000000e+00  1.84456553e-02  1.57795842e-02 -1.33963561e-02\n",
      "   1.35104119e-02  1.50985355e-02  1.60518417e-02  6.56654750e-03\n",
      "   1.33679431e-02 -4.07841779e-02  6.92354965e-02  2.61160259e-03\n",
      "   2.56088599e-02  5.45470174e-02  1.49538555e-02  2.52910584e-02\n",
      "  -4.36945450e-02  4.51956742e-02  1.82829109e-02 -8.64273633e-02\n",
      "   3.68065124e-02 -7.27853020e-02  1.49139258e-01 -2.49773499e-01\n",
      "   1.60116568e-02  4.05092607e-02  1.59004531e-02  6.08511061e-03\n",
      "   5.42638783e-02  0.00000000e+00  1.60101065e-02  7.39266545e-02\n",
      "   3.19882477e-02  1.70490941e-02  7.81275484e-05  2.33780531e-02\n",
      "   0.00000000e+00  2.89691516e-02  2.16299491e-02  1.35966613e-02\n",
      "   2.02853079e-02  4.23354224e-02  9.99427046e-03  1.64445470e-02\n",
      "   1.92022346e-02  2.49644977e-02  6.45619095e-02 -1.83093198e-01\n",
      "  -8.76370402e-03 -3.69157503e-02  2.40138845e-02  0.00000000e+00\n",
      "  -4.73335076e-03  2.36636851e-02  1.46472555e-01  1.23254331e-01\n",
      "   1.50845887e-02 -1.52286641e-01  5.03289141e-03 -1.94640089e-02\n",
      "   0.00000000e+00  6.23639159e-02 -3.18202051e-02  4.18075748e-02\n",
      "   1.46532508e-02  0.00000000e+00  1.35271609e-01  1.78620360e-02\n",
      "  -1.39316701e-02  1.14790497e-01  1.17488803e-01  1.14420734e-01\n",
      "  -3.66368662e-02  1.38830800e-02  4.34438201e-02  5.23858677e-02\n",
      "  -3.09748090e-01  1.21658002e-02  1.06470198e-01 -2.37919913e-01\n",
      "  -3.56683048e-01]]\n"
     ]
    }
   ],
   "source": [
    "# For Logistic Regression\n",
    "print(\"Feature coefficients:\", model.coef_)"
   ]
  },
  {
   "cell_type": "code",
   "execution_count": 152,
   "id": "039e25d2",
   "metadata": {},
   "outputs": [
    {
     "name": "stdout",
     "output_type": "stream",
     "text": [
      "[[810  13]\n",
      " [  8 612]]\n"
     ]
    }
   ],
   "source": [
    "from sklearn.metrics import confusion_matrix\n",
    "print(confusion_matrix(y_test, y_pred))"
   ]
  },
  {
   "cell_type": "code",
   "execution_count": 153,
   "id": "0418167d",
   "metadata": {},
   "outputs": [
    {
     "name": "stdout",
     "output_type": "stream",
     "text": [
      "Precision: 0.98\n",
      "Recall: 0.99\n",
      "F1 Score: 0.98\n"
     ]
    }
   ],
   "source": [
    "from sklearn.metrics import precision_score, recall_score, f1_score\n",
    "\n",
    "precision = precision_score(y_test, y_pred)\n",
    "recall = recall_score(y_test, y_pred)\n",
    "f1 = f1_score(y_test, y_pred)\n",
    "\n",
    "print(f\"Precision: {precision:.2f}\")\n",
    "print(f\"Recall: {recall:.2f}\")\n",
    "print(f\"F1 Score: {f1:.2f}\")"
   ]
  },
  {
   "cell_type": "code",
   "execution_count": 154,
   "id": "062fc5d2",
   "metadata": {},
   "outputs": [
    {
     "data": {
      "text/plain": [
       "Index(['juv_fel_count', 'decile_score', 'juv_misd_count', 'juv_other_count',\n",
       "       'days_b_screening_arrest', 'c_days_from_compas', 'is_recid',\n",
       "       'is_violent_recid', 'decile_score.1', 'v_decile_score',\n",
       "       'priors_count.1', 'start', 'end', 'event', 'compas_screening_date_year',\n",
       "       'compas_screening_date_month', 'compas_screening_date_day',\n",
       "       'c_jail_in_year', 'c_jail_in_month', 'c_jail_in_day', 'c_jail_out_year',\n",
       "       'c_jail_out_month', 'c_jail_out_day', 'v_screening_date_year',\n",
       "       'v_screening_date_month', 'v_screening_date_day', 'screening_date_year',\n",
       "       'screening_date_month', 'screening_date_day', 'in_custody_year',\n",
       "       'in_custody_month', 'in_custody_day', 'out_custody_year',\n",
       "       'out_custody_month', 'out_custody_day', 'days_since_compas',\n",
       "       'sex_Female', 'sex_Male', 'race_African-American', 'race_Asian',\n",
       "       'race_Caucasian', 'race_Hispanic', 'race_Native American', 'race_Other',\n",
       "       'c_charge_degree_F', 'c_charge_degree_M', 'age_cat_25 - 45',\n",
       "       'age_cat_Greater than 45', 'age_cat_Less than 25',\n",
       "       'c_charge_desc_Abuse Without Great Harm'],\n",
       "      dtype='object')"
      ]
     },
     "execution_count": 154,
     "metadata": {},
     "output_type": "execute_result"
    }
   ],
   "source": [
    "X.columns[0:50]"
   ]
  },
  {
   "cell_type": "code",
   "execution_count": 164,
   "id": "a5c55a1f",
   "metadata": {},
   "outputs": [
    {
     "name": "stdout",
     "output_type": "stream",
     "text": [
      "Confusion Matrix (Black):\n",
      "[[310  49]\n",
      " [ 47 325]]\n",
      "Confusion Matrix (White):\n",
      "[[280  40]\n",
      " [ 31 154]]\n"
     ]
    },
    {
     "name": "stderr",
     "output_type": "stream",
     "text": [
      "C:\\Users\\jcity\\anaconda3\\lib\\site-packages\\sklearn\\base.py:486: UserWarning: X has feature names, but LogisticRegression was fitted without feature names\n",
      "  warnings.warn(\n",
      "C:\\Users\\jcity\\anaconda3\\lib\\site-packages\\sklearn\\base.py:486: UserWarning: X has feature names, but LogisticRegression was fitted without feature names\n",
      "  warnings.warn(\n"
     ]
    }
   ],
   "source": [
    "import pandas as pd\n",
    "from sklearn.metrics import confusion_matrix\n",
    "\n",
    "# Subset predictions by race (e.g., Other vs. Caucasian)\n",
    "X_test_black = X_test[X_test['race_African-American'] == 1]\n",
    "y_test_black = y_test[X_test['race_African-American'] == 1]\n",
    "y_pred_black = model.predict(X_test_black)\n",
    "\n",
    "X_test_white = X_test[X_test['race_Caucasian'] == 1]\n",
    "y_test_white = y_test[X_test['race_Caucasian'] == 1]\n",
    "y_pred_white = model.predict(X_test_white)\n",
    "\n",
    "# Confusion matrix for each group\n",
    "print(\"Confusion Matrix (Black):\")\n",
    "print(confusion_matrix(y_test_black, y_pred_black))\n",
    "\n",
    "print(\"Confusion Matrix (White):\")\n",
    "print(confusion_matrix(y_test_white, y_pred_white))"
   ]
  },
  {
   "cell_type": "code",
   "execution_count": 176,
   "id": "f84fb5fb",
   "metadata": {},
   "outputs": [],
   "source": [
    "def calculate_rates(y_true, y_pred):\n",
    "    tn, fp, fn, tp = confusion_matrix(y_true, y_pred).ravel()\n",
    "    false_positive_rate = fp / (fp + tn)\n",
    "    false_negative_rate = fn / (fn + tp)\n",
    "    return false_positive_rate, false_negative_rate"
   ]
  },
  {
   "cell_type": "code",
   "execution_count": 179,
   "id": "0a73e888",
   "metadata": {},
   "outputs": [
    {
     "name": "stdout",
     "output_type": "stream",
     "text": [
      "False Positive Rate for Black defendants: 0.14 (13.6%)\n",
      "False Positive Rate for White defendants: 0.12 (12.5%)\n",
      "False Negative Rate for Black defendants: 0.13 (12.9%)\n",
      "False Negative Rate for White defendants: 0.17 (16.8%)\n"
     ]
    }
   ],
   "source": [
    "# Calculate False Positive Rate (FPR) for Black and White defendants\n",
    "fpr_black, fnr_black =  calculate_rates(y_test_black, y_pred_black)\n",
    "fpr_white, fnr_white =  calculate_rates(y_test_white, y_pred_white)\n",
    "\n",
    "print(f\"False Positive Rate for Black defendants: {fpr_black:.2f} ({fpr_black * 100:.1f}%)\")\n",
    "print(f\"False Positive Rate for White defendants: {fpr_white:.2f} ({fpr_white * 100:.1f}%)\")\n",
    "\n",
    "print(f\"False Negative Rate for Black defendants: {fnr_black:.2f} ({fnr_black * 100:.1f}%)\")\n",
    "print(f\"False Negative Rate for White defendants: {fnr_white:.2f} ({fnr_white * 100:.1f}%)\")"
   ]
  },
  {
   "cell_type": "markdown",
   "id": "b8dc444c",
   "metadata": {},
   "source": [
    "### Mitigate Bias using Reweighting based on Race"
   ]
  },
  {
   "cell_type": "code",
   "execution_count": 183,
   "id": "5ae27a34",
   "metadata": {},
   "outputs": [
    {
     "name": "stdout",
     "output_type": "stream",
     "text": [
      "Weighted Model Accuracy: 0.99\n"
     ]
    }
   ],
   "source": [
    "from sklearn.utils.class_weight import compute_sample_weight\n",
    "import numpy as np\n",
    "\n",
    "# Base sample weights based on the target class balance\n",
    "base_weights = compute_sample_weight(class_weight='balanced', y=y_train)\n",
    "\n",
    "# Additional weights based on race\n",
    "# Let's assume 'race_African-American' is 1 for Black defendants, 0 otherwise\n",
    "race_factor = np.where(X_train['race_African-American'] == 1, 1.5, 1.0)  # Example: weight Black defendants more\n",
    "\n",
    "# Final sample weights to balance both race and target class\n",
    "sample_weights = base_weights * race_factor\n",
    "\n",
    "# Train the model with these custom sample weights\n",
    "model_weighted = LogisticRegression(max_iter=1000)\n",
    "model_weighted.fit(X_train_scaled, y_train, sample_weight=sample_weights)\n",
    "\n",
    "# Make predictions with the reweighted model\n",
    "y_pred_weighted = model_weighted.predict(X_test_scaled)\n",
    "\n",
    "# Evaluate the reweighted model's accuracy\n",
    "weighted_accuracy = accuracy_score(y_test, y_pred_weighted)\n",
    "print(f\"Weighted Model Accuracy: {weighted_accuracy:.2f}\")\n"
   ]
  },
  {
   "cell_type": "markdown",
   "id": "0125195a",
   "metadata": {},
   "source": [
    "### Retest prediction by Race"
   ]
  },
  {
   "cell_type": "code",
   "execution_count": 184,
   "id": "cb7fe088",
   "metadata": {},
   "outputs": [
    {
     "name": "stdout",
     "output_type": "stream",
     "text": [
      "Weighted False Positive Rate (Black): 0.14 (13.6%)\n",
      "Weighted False Positive Rate (White): 0.13 (12.8%)\n",
      "Weighted False Negative Rate (Black): 0.13 (12.6%)\n",
      "Weighted False Negative Rate (White): 0.16 (16.2%)\n"
     ]
    },
    {
     "name": "stderr",
     "output_type": "stream",
     "text": [
      "C:\\Users\\jcity\\anaconda3\\lib\\site-packages\\sklearn\\base.py:486: UserWarning: X has feature names, but LogisticRegression was fitted without feature names\n",
      "  warnings.warn(\n",
      "C:\\Users\\jcity\\anaconda3\\lib\\site-packages\\sklearn\\base.py:486: UserWarning: X has feature names, but LogisticRegression was fitted without feature names\n",
      "  warnings.warn(\n"
     ]
    }
   ],
   "source": [
    "# Evaluate performance for each race with the reweighted model\n",
    "y_pred_weighted_black = model_weighted.predict(X_test_black)\n",
    "y_pred_weighted_white = model_weighted.predict(X_test_white)\n",
    "\n",
    "# Calculate false positive and false negative rates for each group\n",
    "black_weighted_fp_rate, black_weighted_fn_rate = calculate_rates(y_test_black, y_pred_weighted_black)\n",
    "white_weighted_fp_rate, white_weighted_fn_rate = calculate_rates(y_test_white, y_pred_weighted_white)\n",
    "\n",
    "print(f\"Weighted False Positive Rate (Black): {black_weighted_fp_rate:.2f} ({black_weighted_fp_rate * 100:.1f}%)\")\n",
    "print(f\"Weighted False Positive Rate (White): {white_weighted_fp_rate:.2f} ({white_weighted_fp_rate * 100:.1f}%)\")\n",
    "print(f\"Weighted False Negative Rate (Black): {black_weighted_fn_rate:.2f} ({black_weighted_fn_rate * 100:.1f}%)\")\n",
    "print(f\"Weighted False Negative Rate (White): {white_weighted_fn_rate:.2f} ({white_weighted_fn_rate * 100:.1f}%)\")"
   ]
  },
  {
   "cell_type": "code",
   "execution_count": null,
   "id": "d9196da2",
   "metadata": {},
   "outputs": [],
   "source": [
    "\n"
   ]
  },
  {
   "cell_type": "code",
   "execution_count": null,
   "id": "1416aeb6",
   "metadata": {},
   "outputs": [],
   "source": []
  }
 ],
 "metadata": {
  "kernelspec": {
   "display_name": "Python 3 (ipykernel)",
   "language": "python",
   "name": "python3"
  },
  "language_info": {
   "codemirror_mode": {
    "name": "ipython",
    "version": 3
   },
   "file_extension": ".py",
   "mimetype": "text/x-python",
   "name": "python",
   "nbconvert_exporter": "python",
   "pygments_lexer": "ipython3",
   "version": "3.10.9"
  }
 },
 "nbformat": 4,
 "nbformat_minor": 5
}
