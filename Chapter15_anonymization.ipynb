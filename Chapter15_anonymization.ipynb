{
 "cells": [
  {
   "cell_type": "code",
   "execution_count": 1,
   "metadata": {},
   "outputs": [
    {
     "name": "stdout",
     "output_type": "stream",
     "text": [
      "Anonymized Data:\n",
      "   Purchase Amount                                        Name_Hashed  \\\n",
      "0           120.50  4fa8c1cdf83eb36e391f810620bfe090be6d41177e9d5d...   \n",
      "1           150.75  7e3d89811312ed290e4d1e50b7edbeea816a31d0b586c5...   \n",
      "2            80.20  c55e03a2d507b0cfadab870f0a6ba51284772236aa5800...   \n",
      "\n",
      "                                        Email_Hashed  \n",
      "0  bdd0098e6e171a5778e2d04ad38bc204e9306ea6573b3c...  \n",
      "1  a39860817aafb28ac0d68d2f9fde0e40959c3e44dcd1f4...  \n",
      "2  0c8fdbeba950c8c54686e176b688453629696727af2285...  \n"
     ]
    }
   ],
   "source": [
    "import pandas as pd\n",
    "import hashlib\n",
    "\n",
    "# Sample dataset with sensitive information\n",
    "data = {\n",
    "    'Name': ['Alice Johnson', 'Bob Smith', 'Charlie Brown'],\n",
    "    'Email': ['alice.j@example.com', 'bob.smith@example.com', 'charlie.b@example.com'],\n",
    "    'Purchase Amount': [120.50, 150.75, 80.20]\n",
    "}\n",
    "\n",
    "# Convert to DataFrame\n",
    "df = pd.DataFrame(data)\n",
    "\n",
    "# Function to hash sensitive information\n",
    "def hash_data(value):\n",
    "    return hashlib.sha256(value.encode()).hexdigest()\n",
    "\n",
    "# Apply hashing to sensitive columns\n",
    "df['Name_Hashed'] = df['Name'].apply(hash_data)\n",
    "df['Email_Hashed'] = df['Email'].apply(hash_data)\n",
    "\n",
    "# Drop original columns containing PII\n",
    "df = df.drop(columns=['Name', 'Email'])\n",
    "\n",
    "print(\"Anonymized Data:\")\n",
    "print(df)\n"
   ]
  },
  {
   "cell_type": "code",
   "execution_count": null,
   "metadata": {},
   "outputs": [],
   "source": []
  }
 ],
 "metadata": {
  "kernelspec": {
   "display_name": "Python 3 (ipykernel)",
   "language": "python",
   "name": "python3"
  },
  "language_info": {
   "codemirror_mode": {
    "name": "ipython",
    "version": 3
   },
   "file_extension": ".py",
   "mimetype": "text/x-python",
   "name": "python",
   "nbconvert_exporter": "python",
   "pygments_lexer": "ipython3",
   "version": "3.10.9"
  }
 },
 "nbformat": 4,
 "nbformat_minor": 2
}
